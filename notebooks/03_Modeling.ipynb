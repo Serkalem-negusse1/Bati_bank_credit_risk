{
 "cells": [
  {
   "cell_type": "markdown",
   "metadata": {},
   "source": [
    "## Modeling, Hyperparameter Tuning, and Evaluation"
   ]
  },
  {
   "cell_type": "code",
   "execution_count": 12,
   "metadata": {},
   "outputs": [
    {
     "name": "stdout",
     "output_type": "stream",
     "text": [
      "True\n"
     ]
    }
   ],
   "source": [
    "import os\n",
    "print(os.path.exists(r'e:\\Git_repo\\Bati_bank_credit_risk\\scripts\\EDA_Preprocessing.py'))\n",
    "import sys\n",
    "sys.path.append(r'e:\\Git_repo\\Bati_bank_credit_risk\\scripts')"
   ]
  },
  {
   "cell_type": "markdown",
   "metadata": {},
   "source": [
    "### Import Libraries"
   ]
  },
  {
   "cell_type": "code",
   "execution_count": 14,
   "metadata": {},
   "outputs": [],
   "source": [
    "import os,sys\n",
    "import pandas as pd\n",
    "import matplotlib.pyplot as plt\n",
    "import seaborn as sns\n",
    "import pandas as pd\n",
    "import numpy as np\n",
    "import matplotlib.pyplot as plt\n",
    "\n",
    "from sklearn.pipeline import Pipeline\n",
    "from sklearn.preprocessing import MinMaxScaler, StandardScaler\n",
    "from imblearn.over_sampling import SMOTE\n",
    "from sklearn.model_selection import train_test_split, GridSearchCV, RandomizedSearchCV\n",
    "from sklearn.linear_model import LogisticRegression\n",
    "from sklearn.tree import DecisionTreeClassifier\n",
    "from sklearn.ensemble import RandomForestClassifier, GradientBoostingClassifier\n",
    "from sklearn.metrics import roc_curve, auc\n",
    "from sklearn.metrics import accuracy_score, precision_score, recall_score, f1_score, roc_auc_score, classification_report\n",
    "import pickle\n",
    "\n",
    "# importing all modules from scripts \n",
    "from EDA_Preprocessing import *"
   ]
  },
  {
   "cell_type": "code",
   "execution_count": 15,
   "metadata": {},
   "outputs": [],
   "source": [
    "# Get the absolute path of the parent directory\n",
    "absolutepath = os.path.abspath('..')\n",
    "if absolutepath not in sys.path:\n",
    "    sys.path.insert(0, absolutepath)"
   ]
  },
  {
   "cell_type": "markdown",
   "metadata": {},
   "source": [
    "### Load data"
   ]
  },
  {
   "cell_type": "code",
   "execution_count": 16,
   "metadata": {},
   "outputs": [
    {
     "data": {
      "text/html": [
       "<div>\n",
       "<style scoped>\n",
       "    .dataframe tbody tr th:only-of-type {\n",
       "        vertical-align: middle;\n",
       "    }\n",
       "\n",
       "    .dataframe tbody tr th {\n",
       "        vertical-align: top;\n",
       "    }\n",
       "\n",
       "    .dataframe thead th {\n",
       "        text-align: right;\n",
       "    }\n",
       "</style>\n",
       "<table border=\"1\" class=\"dataframe\">\n",
       "  <thead>\n",
       "    <tr style=\"text-align: right;\">\n",
       "      <th></th>\n",
       "      <th>TransactionId</th>\n",
       "      <th>BatchId</th>\n",
       "      <th>AccountId</th>\n",
       "      <th>SubscriptionId</th>\n",
       "      <th>CustomerId</th>\n",
       "      <th>CurrencyCode</th>\n",
       "      <th>CountryCode</th>\n",
       "      <th>ProviderId</th>\n",
       "      <th>ProductId</th>\n",
       "      <th>ProductCategory</th>\n",
       "      <th>ChannelId</th>\n",
       "      <th>Amount</th>\n",
       "      <th>Value</th>\n",
       "      <th>TransactionStartTime</th>\n",
       "      <th>PricingStrategy</th>\n",
       "      <th>FraudResult</th>\n",
       "    </tr>\n",
       "  </thead>\n",
       "  <tbody>\n",
       "    <tr>\n",
       "      <th>0</th>\n",
       "      <td>TransactionId_76871</td>\n",
       "      <td>BatchId_36123</td>\n",
       "      <td>AccountId_3957</td>\n",
       "      <td>SubscriptionId_887</td>\n",
       "      <td>CustomerId_4406</td>\n",
       "      <td>UGX</td>\n",
       "      <td>256</td>\n",
       "      <td>ProviderId_6</td>\n",
       "      <td>ProductId_10</td>\n",
       "      <td>airtime</td>\n",
       "      <td>ChannelId_3</td>\n",
       "      <td>1000.0</td>\n",
       "      <td>1000</td>\n",
       "      <td>2018-11-15T02:18:49Z</td>\n",
       "      <td>2</td>\n",
       "      <td>0</td>\n",
       "    </tr>\n",
       "    <tr>\n",
       "      <th>1</th>\n",
       "      <td>TransactionId_73770</td>\n",
       "      <td>BatchId_15642</td>\n",
       "      <td>AccountId_4841</td>\n",
       "      <td>SubscriptionId_3829</td>\n",
       "      <td>CustomerId_4406</td>\n",
       "      <td>UGX</td>\n",
       "      <td>256</td>\n",
       "      <td>ProviderId_4</td>\n",
       "      <td>ProductId_6</td>\n",
       "      <td>financial_services</td>\n",
       "      <td>ChannelId_2</td>\n",
       "      <td>-20.0</td>\n",
       "      <td>20</td>\n",
       "      <td>2018-11-15T02:19:08Z</td>\n",
       "      <td>2</td>\n",
       "      <td>0</td>\n",
       "    </tr>\n",
       "    <tr>\n",
       "      <th>2</th>\n",
       "      <td>TransactionId_26203</td>\n",
       "      <td>BatchId_53941</td>\n",
       "      <td>AccountId_4229</td>\n",
       "      <td>SubscriptionId_222</td>\n",
       "      <td>CustomerId_4683</td>\n",
       "      <td>UGX</td>\n",
       "      <td>256</td>\n",
       "      <td>ProviderId_6</td>\n",
       "      <td>ProductId_1</td>\n",
       "      <td>airtime</td>\n",
       "      <td>ChannelId_3</td>\n",
       "      <td>500.0</td>\n",
       "      <td>500</td>\n",
       "      <td>2018-11-15T02:44:21Z</td>\n",
       "      <td>2</td>\n",
       "      <td>0</td>\n",
       "    </tr>\n",
       "    <tr>\n",
       "      <th>3</th>\n",
       "      <td>TransactionId_380</td>\n",
       "      <td>BatchId_102363</td>\n",
       "      <td>AccountId_648</td>\n",
       "      <td>SubscriptionId_2185</td>\n",
       "      <td>CustomerId_988</td>\n",
       "      <td>UGX</td>\n",
       "      <td>256</td>\n",
       "      <td>ProviderId_1</td>\n",
       "      <td>ProductId_21</td>\n",
       "      <td>utility_bill</td>\n",
       "      <td>ChannelId_3</td>\n",
       "      <td>20000.0</td>\n",
       "      <td>21800</td>\n",
       "      <td>2018-11-15T03:32:55Z</td>\n",
       "      <td>2</td>\n",
       "      <td>0</td>\n",
       "    </tr>\n",
       "    <tr>\n",
       "      <th>4</th>\n",
       "      <td>TransactionId_28195</td>\n",
       "      <td>BatchId_38780</td>\n",
       "      <td>AccountId_4841</td>\n",
       "      <td>SubscriptionId_3829</td>\n",
       "      <td>CustomerId_988</td>\n",
       "      <td>UGX</td>\n",
       "      <td>256</td>\n",
       "      <td>ProviderId_4</td>\n",
       "      <td>ProductId_6</td>\n",
       "      <td>financial_services</td>\n",
       "      <td>ChannelId_2</td>\n",
       "      <td>-644.0</td>\n",
       "      <td>644</td>\n",
       "      <td>2018-11-15T03:34:21Z</td>\n",
       "      <td>2</td>\n",
       "      <td>0</td>\n",
       "    </tr>\n",
       "    <tr>\n",
       "      <th>...</th>\n",
       "      <td>...</td>\n",
       "      <td>...</td>\n",
       "      <td>...</td>\n",
       "      <td>...</td>\n",
       "      <td>...</td>\n",
       "      <td>...</td>\n",
       "      <td>...</td>\n",
       "      <td>...</td>\n",
       "      <td>...</td>\n",
       "      <td>...</td>\n",
       "      <td>...</td>\n",
       "      <td>...</td>\n",
       "      <td>...</td>\n",
       "      <td>...</td>\n",
       "      <td>...</td>\n",
       "      <td>...</td>\n",
       "    </tr>\n",
       "    <tr>\n",
       "      <th>95657</th>\n",
       "      <td>TransactionId_89881</td>\n",
       "      <td>BatchId_96668</td>\n",
       "      <td>AccountId_4841</td>\n",
       "      <td>SubscriptionId_3829</td>\n",
       "      <td>CustomerId_3078</td>\n",
       "      <td>UGX</td>\n",
       "      <td>256</td>\n",
       "      <td>ProviderId_4</td>\n",
       "      <td>ProductId_6</td>\n",
       "      <td>financial_services</td>\n",
       "      <td>ChannelId_2</td>\n",
       "      <td>-1000.0</td>\n",
       "      <td>1000</td>\n",
       "      <td>2019-02-13T09:54:09Z</td>\n",
       "      <td>2</td>\n",
       "      <td>0</td>\n",
       "    </tr>\n",
       "    <tr>\n",
       "      <th>95658</th>\n",
       "      <td>TransactionId_91597</td>\n",
       "      <td>BatchId_3503</td>\n",
       "      <td>AccountId_3439</td>\n",
       "      <td>SubscriptionId_2643</td>\n",
       "      <td>CustomerId_3874</td>\n",
       "      <td>UGX</td>\n",
       "      <td>256</td>\n",
       "      <td>ProviderId_6</td>\n",
       "      <td>ProductId_10</td>\n",
       "      <td>airtime</td>\n",
       "      <td>ChannelId_3</td>\n",
       "      <td>1000.0</td>\n",
       "      <td>1000</td>\n",
       "      <td>2019-02-13T09:54:25Z</td>\n",
       "      <td>2</td>\n",
       "      <td>0</td>\n",
       "    </tr>\n",
       "    <tr>\n",
       "      <th>95659</th>\n",
       "      <td>TransactionId_82501</td>\n",
       "      <td>BatchId_118602</td>\n",
       "      <td>AccountId_4841</td>\n",
       "      <td>SubscriptionId_3829</td>\n",
       "      <td>CustomerId_3874</td>\n",
       "      <td>UGX</td>\n",
       "      <td>256</td>\n",
       "      <td>ProviderId_4</td>\n",
       "      <td>ProductId_6</td>\n",
       "      <td>financial_services</td>\n",
       "      <td>ChannelId_2</td>\n",
       "      <td>-20.0</td>\n",
       "      <td>20</td>\n",
       "      <td>2019-02-13T09:54:35Z</td>\n",
       "      <td>2</td>\n",
       "      <td>0</td>\n",
       "    </tr>\n",
       "    <tr>\n",
       "      <th>95660</th>\n",
       "      <td>TransactionId_136354</td>\n",
       "      <td>BatchId_70924</td>\n",
       "      <td>AccountId_1346</td>\n",
       "      <td>SubscriptionId_652</td>\n",
       "      <td>CustomerId_1709</td>\n",
       "      <td>UGX</td>\n",
       "      <td>256</td>\n",
       "      <td>ProviderId_6</td>\n",
       "      <td>ProductId_19</td>\n",
       "      <td>tv</td>\n",
       "      <td>ChannelId_3</td>\n",
       "      <td>3000.0</td>\n",
       "      <td>3000</td>\n",
       "      <td>2019-02-13T10:01:10Z</td>\n",
       "      <td>2</td>\n",
       "      <td>0</td>\n",
       "    </tr>\n",
       "    <tr>\n",
       "      <th>95661</th>\n",
       "      <td>TransactionId_35670</td>\n",
       "      <td>BatchId_29317</td>\n",
       "      <td>AccountId_4841</td>\n",
       "      <td>SubscriptionId_3829</td>\n",
       "      <td>CustomerId_1709</td>\n",
       "      <td>UGX</td>\n",
       "      <td>256</td>\n",
       "      <td>ProviderId_4</td>\n",
       "      <td>ProductId_6</td>\n",
       "      <td>financial_services</td>\n",
       "      <td>ChannelId_2</td>\n",
       "      <td>-60.0</td>\n",
       "      <td>60</td>\n",
       "      <td>2019-02-13T10:01:28Z</td>\n",
       "      <td>2</td>\n",
       "      <td>0</td>\n",
       "    </tr>\n",
       "  </tbody>\n",
       "</table>\n",
       "<p>95662 rows × 16 columns</p>\n",
       "</div>"
      ],
      "text/plain": [
       "              TransactionId         BatchId       AccountId  \\\n",
       "0       TransactionId_76871   BatchId_36123  AccountId_3957   \n",
       "1       TransactionId_73770   BatchId_15642  AccountId_4841   \n",
       "2       TransactionId_26203   BatchId_53941  AccountId_4229   \n",
       "3         TransactionId_380  BatchId_102363   AccountId_648   \n",
       "4       TransactionId_28195   BatchId_38780  AccountId_4841   \n",
       "...                     ...             ...             ...   \n",
       "95657   TransactionId_89881   BatchId_96668  AccountId_4841   \n",
       "95658   TransactionId_91597    BatchId_3503  AccountId_3439   \n",
       "95659   TransactionId_82501  BatchId_118602  AccountId_4841   \n",
       "95660  TransactionId_136354   BatchId_70924  AccountId_1346   \n",
       "95661   TransactionId_35670   BatchId_29317  AccountId_4841   \n",
       "\n",
       "            SubscriptionId       CustomerId CurrencyCode  CountryCode  \\\n",
       "0       SubscriptionId_887  CustomerId_4406          UGX          256   \n",
       "1      SubscriptionId_3829  CustomerId_4406          UGX          256   \n",
       "2       SubscriptionId_222  CustomerId_4683          UGX          256   \n",
       "3      SubscriptionId_2185   CustomerId_988          UGX          256   \n",
       "4      SubscriptionId_3829   CustomerId_988          UGX          256   \n",
       "...                    ...              ...          ...          ...   \n",
       "95657  SubscriptionId_3829  CustomerId_3078          UGX          256   \n",
       "95658  SubscriptionId_2643  CustomerId_3874          UGX          256   \n",
       "95659  SubscriptionId_3829  CustomerId_3874          UGX          256   \n",
       "95660   SubscriptionId_652  CustomerId_1709          UGX          256   \n",
       "95661  SubscriptionId_3829  CustomerId_1709          UGX          256   \n",
       "\n",
       "         ProviderId     ProductId     ProductCategory    ChannelId   Amount  \\\n",
       "0      ProviderId_6  ProductId_10             airtime  ChannelId_3   1000.0   \n",
       "1      ProviderId_4   ProductId_6  financial_services  ChannelId_2    -20.0   \n",
       "2      ProviderId_6   ProductId_1             airtime  ChannelId_3    500.0   \n",
       "3      ProviderId_1  ProductId_21        utility_bill  ChannelId_3  20000.0   \n",
       "4      ProviderId_4   ProductId_6  financial_services  ChannelId_2   -644.0   \n",
       "...             ...           ...                 ...          ...      ...   \n",
       "95657  ProviderId_4   ProductId_6  financial_services  ChannelId_2  -1000.0   \n",
       "95658  ProviderId_6  ProductId_10             airtime  ChannelId_3   1000.0   \n",
       "95659  ProviderId_4   ProductId_6  financial_services  ChannelId_2    -20.0   \n",
       "95660  ProviderId_6  ProductId_19                  tv  ChannelId_3   3000.0   \n",
       "95661  ProviderId_4   ProductId_6  financial_services  ChannelId_2    -60.0   \n",
       "\n",
       "       Value  TransactionStartTime  PricingStrategy  FraudResult  \n",
       "0       1000  2018-11-15T02:18:49Z                2            0  \n",
       "1         20  2018-11-15T02:19:08Z                2            0  \n",
       "2        500  2018-11-15T02:44:21Z                2            0  \n",
       "3      21800  2018-11-15T03:32:55Z                2            0  \n",
       "4        644  2018-11-15T03:34:21Z                2            0  \n",
       "...      ...                   ...              ...          ...  \n",
       "95657   1000  2019-02-13T09:54:09Z                2            0  \n",
       "95658   1000  2019-02-13T09:54:25Z                2            0  \n",
       "95659     20  2019-02-13T09:54:35Z                2            0  \n",
       "95660   3000  2019-02-13T10:01:10Z                2            0  \n",
       "95661     60  2019-02-13T10:01:28Z                2            0  \n",
       "\n",
       "[95662 rows x 16 columns]"
      ]
     },
     "execution_count": 16,
     "metadata": {},
     "output_type": "execute_result"
    }
   ],
   "source": [
    "# Load the datasets\n",
    "df = pd.read_csv(\"E:/data06/data.csv\")\n",
    "df"
   ]
  },
  {
   "cell_type": "markdown",
   "metadata": {},
   "source": [
    "#### Data preparation - conversion"
   ]
  },
  {
   "cell_type": "code",
   "execution_count": 17,
   "metadata": {},
   "outputs": [],
   "source": [
    "# Convert TransactionStartTime to datetime format\n",
    "df['TransactionStartTime'] = pd.to_datetime(df['TransactionStartTime'])"
   ]
  },
  {
   "cell_type": "code",
   "execution_count": 18,
   "metadata": {},
   "outputs": [],
   "source": [
    "X = df[['Amount', 'Value', 'PricingStrategy', 'FraudResult']]  \n",
    "y = df['FraudResult']"
   ]
  },
  {
   "cell_type": "markdown",
   "metadata": {},
   "source": [
    "### Data Splitting - Traing and Test Dataset"
   ]
  },
  {
   "cell_type": "code",
   "execution_count": 19,
   "metadata": {},
   "outputs": [],
   "source": [
    "# Split the data into train and test sets (80% train, 20% test)\n",
    "X_train, X_test, y_train, y_test = train_test_split(X, y, test_size=0.3, random_state=42)"
   ]
  },
  {
   "cell_type": "markdown",
   "metadata": {},
   "source": [
    "## Hyperparameter Tuning and Modeling"
   ]
  },
  {
   "cell_type": "code",
   "execution_count": 20,
   "metadata": {},
   "outputs": [],
   "source": [
    "# Initialize SMOTE\n",
    "smote = SMOTE(random_state=0)\n",
    "\n",
    "# Fit and resample the training data\n",
    "X_resampled, y_resampled = smote.fit_resample(X_train, y_train)"
   ]
  },
  {
   "cell_type": "markdown",
   "metadata": {},
   "source": [
    "### Model Training and Optimization (Hyperparameter Tuning)"
   ]
  },
  {
   "cell_type": "code",
   "execution_count": 21,
   "metadata": {},
   "outputs": [],
   "source": [
    "# Define models\n",
    "models = {\n",
    "    'Logistic Regression': LogisticRegression(),\n",
    "    'Decision Tree': DecisionTreeClassifier(),\n",
    "    'Random Forest': RandomForestClassifier(),\n",
    "    'Gradient Boosting': GradientBoostingClassifier()\n",
    "}"
   ]
  },
  {
   "cell_type": "markdown",
   "metadata": {},
   "source": [
    "### Define Hyperparameter for each model"
   ]
  },
  {
   "cell_type": "code",
   "execution_count": 22,
   "metadata": {},
   "outputs": [],
   "source": [
    "# Define hyperparameter grids for each model\n",
    "param_grids = {\n",
    "    'Logistic Regression': {'classifier__C': [0.01, 0.1, 1, 10, 100]},\n",
    "    'Decision Tree': {'classifier__max_depth': [3, 5, 7, None]},\n",
    "    'Random Forest': {'classifier__n_estimators': [50, 100, 200], 'classifier__max_depth': [3, 5, 10]},\n",
    "    'Gradient Boosting': {'classifier__learning_rate': [0.01, 0.1, 0.2], 'classifier__n_estimators': [50, 100, 200]}\n",
    "}"
   ]
  },
  {
   "cell_type": "code",
   "execution_count": 23,
   "metadata": {},
   "outputs": [],
   "source": [
    "# Define pipelines\n",
    "pipelines = {name: Pipeline([\n",
    "    ('scaler', MinMaxScaler()),  \n",
    "    ('classifier', model)  \n",
    "]) for name, model in models.items()}\n",
    "\n",
    "# Set up GridSearchCV for each model pipeline\n",
    "grid_searches = {\n",
    "    name: GridSearchCV(estimator=pipeline, param_grid=param_grids[name], cv=5, scoring='accuracy')\n",
    "    for name, pipeline in pipelines.items()}"
   ]
  },
  {
   "cell_type": "code",
   "execution_count": 24,
   "metadata": {},
   "outputs": [
    {
     "name": "stdout",
     "output_type": "stream",
     "text": [
      "Best parameters for Logistic Regression model: {'classifier__C': 0.01}\n",
      "Best parameters for Decision Tree model: {'classifier__max_depth': 3}\n",
      "Best parameters for Random Forest model: {'classifier__max_depth': 3, 'classifier__n_estimators': 50}\n",
      "Best parameters for Gradient Boosting model: {'classifier__learning_rate': 0.01, 'classifier__n_estimators': 50}\n"
     ]
    }
   ],
   "source": [
    "# Train each pipeline with the resampled dataset\n",
    "for name, grid_search in grid_searches.items():\n",
    "    grid_search.fit(X_resampled, y_resampled)\n",
    "    print(f\"Best parameters for {name} model: {grid_search.best_params_}\")\n",
    "    bestModel = grid_search.best_params_"
   ]
  },
  {
   "cell_type": "markdown",
   "metadata": {},
   "source": [
    "### Model Performance Evaluation"
   ]
  },
  {
   "cell_type": "code",
   "execution_count": 28,
   "metadata": {},
   "outputs": [
    {
     "name": "stdout",
     "output_type": "stream",
     "text": [
      "              precision    recall  f1-score   support\n",
      "\n",
      "           0       1.00      1.00      1.00     28643\n",
      "           1       1.00      1.00      1.00        56\n",
      "\n",
      "    accuracy                           1.00     28699\n",
      "   macro avg       1.00      1.00      1.00     28699\n",
      "weighted avg       1.00      1.00      1.00     28699\n",
      "\n"
     ]
    },
    {
     "data": {
      "text/html": [
       "<div>\n",
       "<style scoped>\n",
       "    .dataframe tbody tr th:only-of-type {\n",
       "        vertical-align: middle;\n",
       "    }\n",
       "\n",
       "    .dataframe tbody tr th {\n",
       "        vertical-align: top;\n",
       "    }\n",
       "\n",
       "    .dataframe thead th {\n",
       "        text-align: right;\n",
       "    }\n",
       "</style>\n",
       "<table border=\"1\" class=\"dataframe\">\n",
       "  <thead>\n",
       "    <tr style=\"text-align: right;\">\n",
       "      <th></th>\n",
       "      <th>Accuracy</th>\n",
       "      <th>Precision</th>\n",
       "      <th>Recall</th>\n",
       "      <th>F1 Score</th>\n",
       "      <th>ROC AUC</th>\n",
       "    </tr>\n",
       "  </thead>\n",
       "  <tbody>\n",
       "    <tr>\n",
       "      <th>Logistic Regression</th>\n",
       "      <td>1.0</td>\n",
       "      <td>1.0</td>\n",
       "      <td>1.0</td>\n",
       "      <td>1.0</td>\n",
       "      <td>1.0</td>\n",
       "    </tr>\n",
       "    <tr>\n",
       "      <th>Decision Tree</th>\n",
       "      <td>1.0</td>\n",
       "      <td>1.0</td>\n",
       "      <td>1.0</td>\n",
       "      <td>1.0</td>\n",
       "      <td>1.0</td>\n",
       "    </tr>\n",
       "    <tr>\n",
       "      <th>Random Forest</th>\n",
       "      <td>1.0</td>\n",
       "      <td>1.0</td>\n",
       "      <td>1.0</td>\n",
       "      <td>1.0</td>\n",
       "      <td>1.0</td>\n",
       "    </tr>\n",
       "    <tr>\n",
       "      <th>Gradient Boosting</th>\n",
       "      <td>1.0</td>\n",
       "      <td>1.0</td>\n",
       "      <td>1.0</td>\n",
       "      <td>1.0</td>\n",
       "      <td>1.0</td>\n",
       "    </tr>\n",
       "  </tbody>\n",
       "</table>\n",
       "</div>"
      ],
      "text/plain": [
       "                     Accuracy  Precision  Recall  F1 Score  ROC AUC\n",
       "Logistic Regression       1.0        1.0     1.0       1.0      1.0\n",
       "Decision Tree             1.0        1.0     1.0       1.0      1.0\n",
       "Random Forest             1.0        1.0     1.0       1.0      1.0\n",
       "Gradient Boosting         1.0        1.0     1.0       1.0      1.0"
      ]
     },
     "execution_count": 28,
     "metadata": {},
     "output_type": "execute_result"
    }
   ],
   "source": [
    "# Initialize a dictionary to store performance metrics\n",
    "performance_metrics = {}\n",
    "y_probs = {}\n",
    "\n",
    "for name, pipeline in grid_searches.items():\n",
    "    y_pred = pipeline.predict(X_test)  # Predictions on the test set\n",
    "    y_prob = pipeline.predict_proba(X_test)[:, 1]  # Get probabilities for the positive class\n",
    "    y_probs[name] = y_prob  # Store probabilities for ROC curve\n",
    "    # Calculate metrics\n",
    "    performance_metrics[name] = {\n",
    "        'Accuracy': accuracy_score(y_test, y_pred),\n",
    "        'Precision': precision_score(y_test, y_pred),\n",
    "        'Recall': recall_score(y_test, y_pred),\n",
    "        'F1 Score': f1_score(y_test, y_pred),\n",
    "        'ROC AUC': roc_auc_score(y_test, y_prob)\n",
    "    }\n",
    "print(classification_report(y_test, y_pred))\n",
    "\n",
    "model_performance = pd.DataFrame(performance_metrics).T\n",
    "model_performance"
   ]
  },
  {
   "cell_type": "code",
   "execution_count": 26,
   "metadata": {},
   "outputs": [
    {
     "data": {
      "image/png": "[encoded data removed]",
      "text/plain": [
       "<Figure size 1000x400 with 1 Axes>"
      ]
     },
     "metadata": {},
     "output_type": "display_data"
    }
   ],
   "source": [
    "# Set up the plot\n",
    "plt.figure(figsize=(10, 4))\n",
    "\n",
    "# Loop through each model's predicted probabilities\n",
    "for model_name, probs in y_probs.items():\n",
    "    fpr, tpr, _ = roc_curve(y_test, probs)\n",
    "    roc_auc = auc(fpr, tpr)\n",
    "    \n",
    "    # Plot ROC curve\n",
    "    plt.plot(fpr, tpr, label=f'{model_name} (AUC = {roc_auc:.2f})')\n",
    "\n",
    "# Plot settings\n",
    "plt.plot([0, 1], [0, 1], 'k--')  # Dashed diagonal line\n",
    "plt.xlim([0.0, 1.0])\n",
    "plt.ylim([0.0, 1.05])\n",
    "plt.xlabel('False Positive Rate')\n",
    "plt.ylabel('True Positive Rate')\n",
    "plt.title('Receiver Operating Characteristic (ROC-AUC) Curve')\n",
    "plt.legend(loc='lower right')\n",
    "plt.grid()\n",
    "plt.show()"
   ]
  },
  {
   "cell_type": "code",
   "execution_count": 27,
   "metadata": {},
   "outputs": [],
   "source": [
    "# Save the model to a .pkl file in the \"model\" folder\n",
    "model_path = os.path.join('E:/Git_repo/Bati_bank_credit_risk', 'Best_model.pkl')\n",
    "with open(model_path, 'wb') as file:\n",
    "    pickle.dump(models, file)"
   ]
  }
 ],
 "metadata": {
  "kernelspec": {
   "display_name": "crvenv",
   "language": "python",
   "name": "python3"
  },
  "language_info": {
   "codemirror_mode": {
    "name": "ipython",
    "version": 3
   },
   "file_extension": ".py",
   "mimetype": "text/x-python",
   "name": "python",
   "nbconvert_exporter": "python",
   "pygments_lexer": "ipython3",
   "version": "3.12.6"
  }
 },
 "nbformat": 4,
 "nbformat_minor": 2
}
